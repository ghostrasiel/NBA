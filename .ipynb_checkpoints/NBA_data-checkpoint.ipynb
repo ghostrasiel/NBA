{
 "cells": [
  {
   "cell_type": "code",
   "execution_count": 2,
   "id": "67accef9",
   "metadata": {},
   "outputs": [
    {
     "name": "stdout",
     "output_type": "stream",
     "text": [
      "42749\n"
     ]
    }
   ],
   "source": [
    "import sqlite3\n",
    "conn = sqlite3.connect(\"./basketball.sqlite\")\n",
    "result = conn.execute(\"select namePlayerBREF , urlPlayerBioBREF from Player_Bios\")\n",
    "sqldata = result.fetchall()\n",
    "data =[]\n",
    "a = 0\n",
    "for d in sqldata:\n",
    "    a +=1\n",
    "    json={'name':d[0] , 'url':d[1]}\n",
    "    data.append(json)\n",
    "print(a)\n",
    "conn.close()"
   ]
  },
  {
   "cell_type": "code",
   "execution_count": 3,
   "id": "1b55d14a",
   "metadata": {},
   "outputs": [
    {
     "data": {
      "text/html": [
       "<div>\n",
       "<style scoped>\n",
       "    .dataframe tbody tr th:only-of-type {\n",
       "        vertical-align: middle;\n",
       "    }\n",
       "\n",
       "    .dataframe tbody tr th {\n",
       "        vertical-align: top;\n",
       "    }\n",
       "\n",
       "    .dataframe thead th {\n",
       "        text-align: right;\n",
       "    }\n",
       "</style>\n",
       "<table border=\"1\" class=\"dataframe\">\n",
       "  <thead>\n",
       "    <tr style=\"text-align: right;\">\n",
       "      <th></th>\n",
       "      <th>name</th>\n",
       "      <th>url</th>\n",
       "    </tr>\n",
       "  </thead>\n",
       "  <tbody>\n",
       "    <tr>\n",
       "      <th>0</th>\n",
       "      <td>A.C. Green</td>\n",
       "      <td>https://www.basketball-reference.com/players/g...</td>\n",
       "    </tr>\n",
       "    <tr>\n",
       "      <th>21</th>\n",
       "      <td>A.J. Bramlett</td>\n",
       "      <td>https://www.basketball-reference.com/players/b...</td>\n",
       "    </tr>\n",
       "    <tr>\n",
       "      <th>24</th>\n",
       "      <td>A.J. English</td>\n",
       "      <td>https://www.basketball-reference.com/players/e...</td>\n",
       "    </tr>\n",
       "    <tr>\n",
       "      <th>31</th>\n",
       "      <td>A.J. Guyton</td>\n",
       "      <td>https://www.basketball-reference.com/players/g...</td>\n",
       "    </tr>\n",
       "    <tr>\n",
       "      <th>40</th>\n",
       "      <td>A.J. Wynder</td>\n",
       "      <td>https://www.basketball-reference.com/players/w...</td>\n",
       "    </tr>\n",
       "  </tbody>\n",
       "</table>\n",
       "</div>"
      ],
      "text/plain": [
       "             name                                                url\n",
       "0      A.C. Green  https://www.basketball-reference.com/players/g...\n",
       "21  A.J. Bramlett  https://www.basketball-reference.com/players/b...\n",
       "24   A.J. English  https://www.basketball-reference.com/players/e...\n",
       "31    A.J. Guyton  https://www.basketball-reference.com/players/g...\n",
       "40    A.J. Wynder  https://www.basketball-reference.com/players/w..."
      ]
     },
     "execution_count": 3,
     "metadata": {},
     "output_type": "execute_result"
    }
   ],
   "source": [
    "import pandas as pd\n",
    "df = pd.DataFrame(data)\n",
    "df = df[~df.duplicated()]\n",
    "df.head(5)"
   ]
  },
  {
   "cell_type": "code",
   "execution_count": 33,
   "id": "aca785e1",
   "metadata": {},
   "outputs": [
    {
     "ename": "OperationalError",
     "evalue": "table player_data already exists",
     "output_type": "error",
     "traceback": [
      "\u001b[1;31m---------------------------------------------------------------------------\u001b[0m",
      "\u001b[1;31mOperationalError\u001b[0m                          Traceback (most recent call last)",
      "\u001b[1;32m<ipython-input-33-be5f591f9736>\u001b[0m in \u001b[0;36m<module>\u001b[1;34m\u001b[0m\n\u001b[0;32m     14\u001b[0m         \u001b[0mFT\u001b[0m \u001b[0mfloat\u001b[0m \u001b[1;33m,\u001b[0m \u001b[0mFTA\u001b[0m \u001b[0mfloat\u001b[0m \u001b[1;33m,\u001b[0m \u001b[0mFT_P\u001b[0m \u001b[0mfloat\u001b[0m \u001b[1;33m,\u001b[0m \u001b[0mORB\u001b[0m \u001b[0mfloat\u001b[0m \u001b[1;33m,\u001b[0m \u001b[0mDRB\u001b[0m \u001b[0mfloat\u001b[0m \u001b[1;33m,\u001b[0m\u001b[1;33m\u001b[0m\u001b[1;33m\u001b[0m\u001b[0m\n\u001b[0;32m     15\u001b[0m         TRB float , AST float , STL float , BLK float , TOV float , PF float , PTS float)'''\n\u001b[1;32m---> 16\u001b[1;33m \u001b[0mcursor\u001b[0m\u001b[1;33m.\u001b[0m\u001b[0mexecute\u001b[0m\u001b[1;33m(\u001b[0m\u001b[0msql\u001b[0m\u001b[1;33m)\u001b[0m                     \u001b[1;31m# 執行SQL指令\u001b[0m\u001b[1;33m\u001b[0m\u001b[1;33m\u001b[0m\u001b[0m\n\u001b[0m\u001b[0;32m     17\u001b[0m \u001b[0mcursor\u001b[0m\u001b[1;33m.\u001b[0m\u001b[0mclose\u001b[0m\u001b[1;33m(\u001b[0m\u001b[1;33m)\u001b[0m                          \u001b[1;31m# 關閉\u001b[0m\u001b[1;33m\u001b[0m\u001b[1;33m\u001b[0m\u001b[0m\n\u001b[0;32m     18\u001b[0m \u001b[0mconn\u001b[0m\u001b[1;33m.\u001b[0m\u001b[0mclose\u001b[0m\u001b[1;33m(\u001b[0m\u001b[1;33m)\u001b[0m\u001b[1;33m\u001b[0m\u001b[1;33m\u001b[0m\u001b[0m\n",
      "\u001b[1;31mOperationalError\u001b[0m: table player_data already exists"
     ]
    }
   ],
   "source": [
    "conn = sqlite3.connect(\"./basketball.sqlite\")   # 資料庫連線\n",
    "cursor = conn.cursor()\n",
    "sql = '''Create table player_data(  \n",
    "        name text,\n",
    "        season text,\n",
    "        age int , \n",
    "        team text , Lg text ,  \n",
    "        pos text , \n",
    "        G int , Gs int ,\n",
    "        MP float , FG float , \n",
    "        FGA float , FG_P float , \n",
    "        threeP float , threePA float , threeP_P,twoP float ,\n",
    "        twoPA float , twoP_P float , eFG_P float , \n",
    "        FT float , FTA float , FT_P float , ORB float , DRB float , \n",
    "        TRB float , AST float , STL float , BLK float , TOV float , PF float , PTS float)'''\n",
    "cursor.execute(sql)                     # 執行SQL指令\n",
    "cursor.close()                          # 關閉\n",
    "conn.close()  "
   ]
  },
  {
   "cell_type": "code",
   "execution_count": 4,
   "id": "90cbfe15",
   "metadata": {},
   "outputs": [],
   "source": [
    "def add_sql(x):\n",
    "    conn = sqlite3.connect(\"./basketball.sqlite\")\n",
    "    sql = f\"insert into player_data values({'?,'*30}?)\"\n",
    "    conn.execute(sql , x)"
   ]
  },
  {
   "cell_type": "code",
   "execution_count": 5,
   "id": "44f5a47a",
   "metadata": {},
   "outputs": [
    {
     "name": "stdout",
     "output_type": "stream",
     "text": [
      "[]\n"
     ]
    }
   ],
   "source": [
    "conn = sqlite3.connect(\"./basketball.sqlite\")\n",
    "result = conn.execute(\"select * from player_data\")\n",
    "sqldata = result.fetchall()\n",
    "print(sqldata)\n",
    "conn.close()"
   ]
  },
  {
   "cell_type": "code",
   "execution_count": 6,
   "id": "faa98c71",
   "metadata": {},
   "outputs": [
    {
     "name": "stdout",
     "output_type": "stream",
     "text": [
      "<class 'pandas.core.frame.DataFrame'>\n",
      "Int64Index: 4010 entries, 0 to 42741\n",
      "Data columns (total 2 columns):\n",
      " #   Column  Non-Null Count  Dtype \n",
      "---  ------  --------------  ----- \n",
      " 0   name    4010 non-null   object\n",
      " 1   url     4010 non-null   object\n",
      "dtypes: object(2)\n",
      "memory usage: 94.0+ KB\n"
     ]
    }
   ],
   "source": [
    "df.info()"
   ]
  },
  {
   "cell_type": "code",
   "execution_count": 8,
   "id": "308808a1",
   "metadata": {
    "scrolled": true
   },
   "outputs": [
    {
     "ename": "ProgrammingError",
     "evalue": "Cannot operate on a closed database.",
     "output_type": "error",
     "traceback": [
      "\u001b[1;31m---------------------------------------------------------------------------\u001b[0m",
      "\u001b[1;31mProgrammingError\u001b[0m                          Traceback (most recent call last)",
      "\u001b[1;32m<ipython-input-8-b359e8545fa9>\u001b[0m in \u001b[0;36m<module>\u001b[1;34m\u001b[0m\n\u001b[0;32m     21\u001b[0m         \u001b[0madd_sql\u001b[0m\u001b[1;33m(\u001b[0m\u001b[0mtuple\u001b[0m\u001b[1;33m(\u001b[0m\u001b[0mt_data\u001b[0m\u001b[1;33m)\u001b[0m\u001b[1;33m)\u001b[0m\u001b[1;33m\u001b[0m\u001b[1;33m\u001b[0m\u001b[0m\n\u001b[0;32m     22\u001b[0m     \u001b[1;32mif\u001b[0m \u001b[0mb\u001b[0m\u001b[1;33m%\u001b[0m\u001b[1;36m30\u001b[0m \u001b[1;33m==\u001b[0m \u001b[1;36m0\u001b[0m \u001b[1;33m:\u001b[0m\u001b[1;33m\u001b[0m\u001b[1;33m\u001b[0m\u001b[0m\n\u001b[1;32m---> 23\u001b[1;33m         \u001b[0mconn\u001b[0m\u001b[1;33m.\u001b[0m\u001b[0mcommit\u001b[0m\u001b[1;33m(\u001b[0m\u001b[1;33m)\u001b[0m\u001b[1;33m\u001b[0m\u001b[1;33m\u001b[0m\u001b[0m\n\u001b[0m\u001b[0;32m     24\u001b[0m \u001b[1;33m\u001b[0m\u001b[0m\n\u001b[0;32m     25\u001b[0m     \u001b[0mprint\u001b[0m\u001b[1;33m(\u001b[0m\u001b[1;34m'ok'\u001b[0m \u001b[1;33m,\u001b[0m \u001b[0mname\u001b[0m \u001b[1;33m,\u001b[0m \u001b[1;34mf'共擁有{a}個賽季'\u001b[0m\u001b[1;33m)\u001b[0m\u001b[1;33m\u001b[0m\u001b[1;33m\u001b[0m\u001b[0m\n",
      "\u001b[1;31mProgrammingError\u001b[0m: Cannot operate on a closed database."
     ]
    }
   ],
   "source": [
    "import requests\n",
    "from bs4 import BeautifulSoup\n",
    "\n",
    "header ={'user-agent': 'Mozilla/5.0 (Windows NT 10.0; Win64; x64) AppleWebKit/537.36 (KHTML, like Gecko) Chrome/91.0.4472.164 Safari/537.36'}\n",
    "b = 0\n",
    "for url in df['url']:\n",
    "    res = requests.get(url = url , headers = header)\n",
    "    soup = BeautifulSoup(res.text , 'html.parser')\n",
    "    tables = soup.select('table#per_game tbody tr')\n",
    "    name = soup.select('div#meta div h1 span')[0].text\n",
    "    a = 0\n",
    "    for t in tables:\n",
    "        a +=1\n",
    "        t_data = list()\n",
    "        tds = t.select('td')\n",
    "        th = t.select('th')[0].text\n",
    "        t_data.append(name)\n",
    "        t_data.append(th)\n",
    "        for td in tds:\n",
    "            t_data.append(td.text)\n",
    "        add_sql(tuple(t_data))\n",
    "    if b%30 == 0 :\n",
    "        conn.commit()\n",
    "        \n",
    "    print('ok' , name , f'共擁有{a}個賽季')\n",
    "\n",
    "conn.commit()\n",
    "conn.close()    \n",
    "    "
   ]
  },
  {
   "cell_type": "code",
   "execution_count": 72,
   "id": "f6b42cc7",
   "metadata": {},
   "outputs": [
    {
     "data": {
      "text/plain": [
       "0"
      ]
     },
     "execution_count": 72,
     "metadata": {},
     "output_type": "execute_result"
    }
   ],
   "source": []
  }
 ],
 "metadata": {
  "kernelspec": {
   "display_name": "Python 3",
   "language": "python",
   "name": "python3"
  },
  "language_info": {
   "codemirror_mode": {
    "name": "ipython",
    "version": 3
   },
   "file_extension": ".py",
   "mimetype": "text/x-python",
   "name": "python",
   "nbconvert_exporter": "python",
   "pygments_lexer": "ipython3",
   "version": "3.9.4"
  }
 },
 "nbformat": 4,
 "nbformat_minor": 5
}
